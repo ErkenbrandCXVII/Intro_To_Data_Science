{
 "cells": [
  {
   "cell_type": "markdown",
   "id": "c5db4fc7-d78a-466d-8af3-875b20586972",
   "metadata": {},
   "source": [
    "# Project Description\n",
    "What goes here: updated project schedule (any changes in plans?). What will go into the final analysis? Any deviations from the initial plan.\n",
    "\n",
    "# Data Description\n",
    "What goes here: elaborated data description, acquisition, cleaning. Any deviations from the initial project plane?\n",
    "\n",
    "# Ethical Data Concerns\n",
    "\n",
    "\n",
    "# Methods\n",
    "\n",
    "\n",
    "# Preliminary Results"
   ]
  },
  {
   "cell_type": "code",
   "execution_count": null,
   "id": "63112dea-896d-42b2-9d9c-156cc811ad19",
   "metadata": {},
   "outputs": [],
   "source": []
  },
  {
   "cell_type": "markdown",
   "id": "e89ae816-e4c7-4549-ba4a-254f43710b8b",
   "metadata": {},
   "source": [
    "# Completed Milestones\n",
    "\n",
    "\n",
    "# Methods Milestones\n",
    "\n",
    "\n",
    "# Summary"
   ]
  }
 ],
 "metadata": {
  "kernelspec": {
   "display_name": "Python 3 (ipykernel)",
   "language": "python",
   "name": "python3"
  },
  "language_info": {
   "codemirror_mode": {
    "name": "ipython",
    "version": 3
   },
   "file_extension": ".py",
   "mimetype": "text/x-python",
   "name": "python",
   "nbconvert_exporter": "python",
   "pygments_lexer": "ipython3",
   "version": "3.12.4"
  }
 },
 "nbformat": 4,
 "nbformat_minor": 5
}
